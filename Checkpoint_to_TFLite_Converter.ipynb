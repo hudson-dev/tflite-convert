{
  "nbformat": 4,
  "nbformat_minor": 0,
  "metadata": {
    "colab": {
      "name": "Checkpoint to TFLite Converter",
      "provenance": [],
      "toc_visible": true,
      "include_colab_link": true
    },
    "kernelspec": {
      "name": "python3",
      "display_name": "Python 3"
    }
  },
  "cells": [
    {
      "cell_type": "markdown",
      "metadata": {
        "id": "view-in-github",
        "colab_type": "text"
      },
      "source": [
        "<a href=\"https://colab.research.google.com/github/hudson-dev/tflite-convert/blob/master/Checkpoint_to_TFLite_Converter.ipynb\" target=\"_parent\"><img src=\"https://colab.research.google.com/assets/colab-badge.svg\" alt=\"Open In Colab\"/></a>"
      ]
    },
    {
      "cell_type": "markdown",
      "metadata": {
        "id": "A6SMssIZtNkk"
      },
      "source": [
        "## **Installing Dependencies**"
      ]
    },
    {
      "cell_type": "markdown",
      "metadata": {
        "id": "yDG6u4RzvK_2"
      },
      "source": [
        "Hudson, you may want to check that you install all these dependencies necessary for Tensorflow."
      ]
    },
    {
      "cell_type": "code",
      "metadata": {
        "colab": {
          "base_uri": "https://localhost:8080/"
        },
        "id": "gxFugYZ0laVx",
        "outputId": "d8ff9ec7-aa3b-4c98-d16c-8f383422d619"
      },
      "source": [
        "%cd /content\r\n",
        "%rm -rf models\r\n",
        "%tensorflow_version 1.14\r\n",
        "!git clone --quiet https://github.com/edsumpena/models.git models\r\n",
        "\r\n",
        "!apt-get install -qq protobuf-compiler python-pil python-lxml python-tk\r\n",
        "\r\n",
        "!pip install -q Cython contextlib2 pillow lxml matplotlib\r\n",
        "\r\n",
        "!pip install -q pycocotools\r\n",
        "!pip install tf_slim\r\n",
        "!pip install lvis\r\n",
        "\r\n",
        "%cd /content/models/research\r\n",
        "!protoc object_detection/protos/*.proto --python_out=.\r\n",
        "\r\n",
        "import os\r\n",
        "os.environ['PYTHONPATH'] += ':/content/models/research/:/content/models/research/slim/'\r\n",
        "\r\n",
        "!python object_detection/builders/model_builder_test.py"
      ],
      "execution_count": 1,
      "outputs": [
        {
          "output_type": "stream",
          "text": [
            "/content\n",
            "`%tensorflow_version` only switches the major version: 1.x or 2.x.\n",
            "You set: `1.14`. This will be interpreted as: `1.x`.\n",
            "\n",
            "\n",
            "TensorFlow 1.x selected.\n",
            "Selecting previously unselected package python-bs4.\n",
            "(Reading database ... 146425 files and directories currently installed.)\n",
            "Preparing to unpack .../0-python-bs4_4.6.0-1_all.deb ...\n",
            "Unpacking python-bs4 (4.6.0-1) ...\n",
            "Selecting previously unselected package python-pkg-resources.\n",
            "Preparing to unpack .../1-python-pkg-resources_39.0.1-2_all.deb ...\n",
            "Unpacking python-pkg-resources (39.0.1-2) ...\n",
            "Selecting previously unselected package python-chardet.\n",
            "Preparing to unpack .../2-python-chardet_3.0.4-1_all.deb ...\n",
            "Unpacking python-chardet (3.0.4-1) ...\n",
            "Selecting previously unselected package python-six.\n",
            "Preparing to unpack .../3-python-six_1.11.0-2_all.deb ...\n",
            "Unpacking python-six (1.11.0-2) ...\n",
            "Selecting previously unselected package python-webencodings.\n",
            "Preparing to unpack .../4-python-webencodings_0.5-2_all.deb ...\n",
            "Unpacking python-webencodings (0.5-2) ...\n",
            "Selecting previously unselected package python-html5lib.\n",
            "Preparing to unpack .../5-python-html5lib_0.999999999-1_all.deb ...\n",
            "Unpacking python-html5lib (0.999999999-1) ...\n",
            "Selecting previously unselected package python-lxml:amd64.\n",
            "Preparing to unpack .../6-python-lxml_4.2.1-1ubuntu0.3_amd64.deb ...\n",
            "Unpacking python-lxml:amd64 (4.2.1-1ubuntu0.3) ...\n",
            "Selecting previously unselected package python-olefile.\n",
            "Preparing to unpack .../7-python-olefile_0.45.1-1_all.deb ...\n",
            "Unpacking python-olefile (0.45.1-1) ...\n",
            "Selecting previously unselected package python-pil:amd64.\n",
            "Preparing to unpack .../8-python-pil_5.1.0-1ubuntu0.4_amd64.deb ...\n",
            "Unpacking python-pil:amd64 (5.1.0-1ubuntu0.4) ...\n",
            "Setting up python-pkg-resources (39.0.1-2) ...\n",
            "Setting up python-six (1.11.0-2) ...\n",
            "Setting up python-bs4 (4.6.0-1) ...\n",
            "Setting up python-lxml:amd64 (4.2.1-1ubuntu0.3) ...\n",
            "Setting up python-olefile (0.45.1-1) ...\n",
            "Setting up python-pil:amd64 (5.1.0-1ubuntu0.4) ...\n",
            "Setting up python-webencodings (0.5-2) ...\n",
            "Setting up python-chardet (3.0.4-1) ...\n",
            "Setting up python-html5lib (0.999999999-1) ...\n",
            "Processing triggers for man-db (2.8.3-2ubuntu0.1) ...\n",
            "Collecting tf_slim\n",
            "\u001b[?25l  Downloading https://files.pythonhosted.org/packages/02/97/b0f4a64df018ca018cc035d44f2ef08f91e2e8aa67271f6f19633a015ff7/tf_slim-1.1.0-py2.py3-none-any.whl (352kB)\n",
            "\u001b[K     |████████████████████████████████| 358kB 4.3MB/s \n",
            "\u001b[?25hRequirement already satisfied: absl-py>=0.2.2 in /usr/local/lib/python3.6/dist-packages (from tf_slim) (0.10.0)\n",
            "Requirement already satisfied: six in /usr/local/lib/python3.6/dist-packages (from absl-py>=0.2.2->tf_slim) (1.15.0)\n",
            "Installing collected packages: tf-slim\n",
            "Successfully installed tf-slim-1.1.0\n",
            "Collecting lvis\n",
            "  Downloading https://files.pythonhosted.org/packages/72/b6/1992240ab48310b5360bfdd1d53163f43bb97d90dc5dc723c67d41c38e78/lvis-0.5.3-py3-none-any.whl\n",
            "Requirement already satisfied: python-dateutil>=2.8.0 in /usr/local/lib/python3.6/dist-packages (from lvis) (2.8.1)\n",
            "Requirement already satisfied: cycler>=0.10.0 in /usr/local/lib/python3.6/dist-packages (from lvis) (0.10.0)\n",
            "Requirement already satisfied: pyparsing>=2.4.0 in /usr/local/lib/python3.6/dist-packages (from lvis) (2.4.7)\n",
            "Requirement already satisfied: matplotlib>=3.1.1 in /usr/local/lib/python3.6/dist-packages (from lvis) (3.2.2)\n",
            "Requirement already satisfied: numpy>=1.18.2 in /usr/local/lib/python3.6/dist-packages (from lvis) (1.19.5)\n",
            "Requirement already satisfied: kiwisolver>=1.1.0 in /usr/local/lib/python3.6/dist-packages (from lvis) (1.3.1)\n",
            "Requirement already satisfied: Cython>=0.29.12 in /usr/local/lib/python3.6/dist-packages (from lvis) (0.29.21)\n",
            "Requirement already satisfied: opencv-python>=4.1.0.25 in /usr/local/lib/python3.6/dist-packages (from lvis) (4.1.2.30)\n",
            "Requirement already satisfied: six>=1.12.0 in /usr/local/lib/python3.6/dist-packages (from lvis) (1.15.0)\n",
            "Installing collected packages: lvis\n",
            "Successfully installed lvis-0.5.3\n",
            "/content/models/research\n"
          ],
          "name": "stdout"
        }
      ]
    },
    {
      "cell_type": "code",
      "metadata": {
        "id": "LcGrKTJGy2ff",
        "outputId": "959448a1-696f-488d-edb0-25c682dccd43",
        "colab": {
          "base_uri": "https://localhost:8080/"
        }
      },
      "source": [
        "!ls -a\r\n",
        "!pwd"
      ],
      "execution_count": 4,
      "outputs": [
        {
          "output_type": "stream",
          "text": [
            ".\t\t    deeplab\t\t   pcl_rl\n",
            "..\t\t    deep_speech\t\t   README.md\n",
            "a3c_blogpost\t    delf\t\t   rebar\n",
            "adversarial_text    efficient-hrl\t   sequence_projection\n",
            "attention_ocr\t    lfads\t\t   setup.py\n",
            "audioset\t    lstm_object_detection  slim\n",
            "autoaugment\t    marco\t\t   vid2depth\n",
            "cognitive_planning  nst_blogpost\n",
            "cvt_text\t    object_detection\n",
            "/content/models/research\n"
          ],
          "name": "stdout"
        }
      ]
    },
    {
      "cell_type": "markdown",
      "metadata": {
        "id": "54a46XFetpQc"
      },
      "source": [
        "## **Converting Checkpoint file to Tensorflow Lite Graph**"
      ]
    },
    {
      "cell_type": "markdown",
      "metadata": {
        "id": "0_gJbcoct5CS"
      },
      "source": [
        "Hudson, this was the first mistake for Tensorflow Lite conversion. You needed to convert the .ckpt file to a .pb for Tensorflow Lite. I think you may have converted to an incorrect .pb file (although I am not sure). Somehow, I was just not able to use the .pb file that you sent me and convert it to .tflite."
      ]
    },
    {
      "cell_type": "markdown",
      "metadata": {
        "id": "cnKlDkpDvaa9"
      },
      "source": [
        "**Inputs:**\r\n",
        "- Upload your pipeline.config file to the \"/content\" folder\r\n",
        "- Upload your model.ckpt (all 3 files) to the \"/content\" folder"
      ]
    },
    {
      "cell_type": "code",
      "metadata": {
        "colab": {
          "base_uri": "https://localhost:8080/"
        },
        "id": "d41lbu6eovz2",
        "outputId": "2156c7eb-c32f-4dbd-fc99-5420414e2911"
      },
      "source": [
        "!python /content/models/research/object_detection/export_tflite_ssd_graph.py \\\r\n",
        "    --pipeline_config_path='/content/pipeline.config' \\\r\n",
        "    --trained_checkpoint_prefix='/content/model.ckpt-1624' \\\r\n",
        "    --output_directory='/content/saved_model_tflite' \\\r\n",
        "    --add_postprocessing_op=true"
      ],
      "execution_count": 5,
      "outputs": [
        {
          "output_type": "stream",
          "text": [
            "WARNING:tensorflow:From /usr/local/lib/python3.6/dist-packages/tf_slim/layers/layers.py:1089: Layer.apply (from tensorflow.python.keras.engine.base_layer) is deprecated and will be removed in a future version.\n",
            "Instructions for updating:\n",
            "Please use `layer.__call__` method instead.\n",
            "W0215 03:49:00.210954 140497665386368 deprecation.py:323] From /usr/local/lib/python3.6/dist-packages/tf_slim/layers/layers.py:1089: Layer.apply (from tensorflow.python.keras.engine.base_layer) is deprecated and will be removed in a future version.\n",
            "Instructions for updating:\n",
            "Please use `layer.__call__` method instead.\n",
            "INFO:tensorflow:depth of additional conv before box predictor: 0\n",
            "I0215 03:49:01.790563 140497665386368 convolutional_box_predictor.py:156] depth of additional conv before box predictor: 0\n",
            "INFO:tensorflow:depth of additional conv before box predictor: 0\n",
            "I0215 03:49:01.825140 140497665386368 convolutional_box_predictor.py:156] depth of additional conv before box predictor: 0\n",
            "INFO:tensorflow:depth of additional conv before box predictor: 0\n",
            "I0215 03:49:01.859236 140497665386368 convolutional_box_predictor.py:156] depth of additional conv before box predictor: 0\n",
            "INFO:tensorflow:depth of additional conv before box predictor: 0\n",
            "I0215 03:49:01.892317 140497665386368 convolutional_box_predictor.py:156] depth of additional conv before box predictor: 0\n",
            "INFO:tensorflow:depth of additional conv before box predictor: 0\n",
            "I0215 03:49:01.925808 140497665386368 convolutional_box_predictor.py:156] depth of additional conv before box predictor: 0\n",
            "INFO:tensorflow:depth of additional conv before box predictor: 0\n",
            "I0215 03:49:01.959315 140497665386368 convolutional_box_predictor.py:156] depth of additional conv before box predictor: 0\n",
            "2021-02-15 03:49:02.006853: I tensorflow/stream_executor/platform/default/dso_loader.cc:44] Successfully opened dynamic library libcuda.so.1\n",
            "2021-02-15 03:49:02.017697: E tensorflow/stream_executor/cuda/cuda_driver.cc:318] failed call to cuInit: CUDA_ERROR_NO_DEVICE: no CUDA-capable device is detected\n",
            "2021-02-15 03:49:02.017750: I tensorflow/stream_executor/cuda/cuda_diagnostics.cc:156] kernel driver does not appear to be running on this host (bb57c9c2ddcc): /proc/driver/nvidia/version does not exist\n",
            "2021-02-15 03:49:02.024003: I tensorflow/core/platform/profile_utils/cpu_utils.cc:94] CPU Frequency: 2299995000 Hz\n",
            "2021-02-15 03:49:02.024277: I tensorflow/compiler/xla/service/service.cc:168] XLA service 0x145ad80 initialized for platform Host (this does not guarantee that XLA will be used). Devices:\n",
            "2021-02-15 03:49:02.024318: I tensorflow/compiler/xla/service/service.cc:176]   StreamExecutor device (0): Host, Default Version\n",
            "WARNING:tensorflow:From /tensorflow-1.15.2/python3.6/tensorflow_core/python/tools/freeze_graph.py:127: checkpoint_exists (from tensorflow.python.training.checkpoint_management) is deprecated and will be removed in a future version.\n",
            "Instructions for updating:\n",
            "Use standard file APIs to check for files with this prefix.\n",
            "W0215 03:49:02.309687 140497665386368 deprecation.py:323] From /tensorflow-1.15.2/python3.6/tensorflow_core/python/tools/freeze_graph.py:127: checkpoint_exists (from tensorflow.python.training.checkpoint_management) is deprecated and will be removed in a future version.\n",
            "Instructions for updating:\n",
            "Use standard file APIs to check for files with this prefix.\n",
            "INFO:tensorflow:Restoring parameters from /content/model.ckpt-1624\n",
            "I0215 03:49:02.746557 140497665386368 saver.py:1284] Restoring parameters from /content/model.ckpt-1624\n",
            "WARNING:tensorflow:From /tensorflow-1.15.2/python3.6/tensorflow_core/python/tools/freeze_graph.py:233: convert_variables_to_constants (from tensorflow.python.framework.graph_util_impl) is deprecated and will be removed in a future version.\n",
            "Instructions for updating:\n",
            "Use `tf.compat.v1.graph_util.convert_variables_to_constants`\n",
            "W0215 03:49:03.089687 140497665386368 deprecation.py:323] From /tensorflow-1.15.2/python3.6/tensorflow_core/python/tools/freeze_graph.py:233: convert_variables_to_constants (from tensorflow.python.framework.graph_util_impl) is deprecated and will be removed in a future version.\n",
            "Instructions for updating:\n",
            "Use `tf.compat.v1.graph_util.convert_variables_to_constants`\n",
            "WARNING:tensorflow:From /tensorflow-1.15.2/python3.6/tensorflow_core/python/framework/graph_util_impl.py:277: extract_sub_graph (from tensorflow.python.framework.graph_util_impl) is deprecated and will be removed in a future version.\n",
            "Instructions for updating:\n",
            "Use `tf.compat.v1.graph_util.extract_sub_graph`\n",
            "W0215 03:49:03.089968 140497665386368 deprecation.py:323] From /tensorflow-1.15.2/python3.6/tensorflow_core/python/framework/graph_util_impl.py:277: extract_sub_graph (from tensorflow.python.framework.graph_util_impl) is deprecated and will be removed in a future version.\n",
            "Instructions for updating:\n",
            "Use `tf.compat.v1.graph_util.extract_sub_graph`\n",
            "INFO:tensorflow:Froze 199 variables.\n",
            "I0215 03:49:03.281783 140497665386368 graph_util_impl.py:334] Froze 199 variables.\n",
            "INFO:tensorflow:Converted 199 variables to const ops.\n",
            "I0215 03:49:03.337325 140497665386368 graph_util_impl.py:394] Converted 199 variables to const ops.\n",
            "2021-02-15 03:49:03.417606: I tensorflow/tools/graph_transforms/transform_graph.cc:317] Applying strip_unused_nodes\n"
          ],
          "name": "stdout"
        }
      ]
    },
    {
      "cell_type": "markdown",
      "metadata": {
        "id": "R3NAFdoavu3p"
      },
      "source": [
        "**Outputs:**\r\n",
        "- A tflite_graph.pb (Tensorflow Lite Graph) under \"/content/saved_model_tflite\"\r\n",
        "- A tflite_graph.pbtxt under \"/content/saved_model_tflite\""
      ]
    },
    {
      "cell_type": "markdown",
      "metadata": {
        "id": "GrG9NmLeuZZP"
      },
      "source": [
        "## **Converting Tensorflow Lite Graph to tflite**"
      ]
    },
    {
      "cell_type": "markdown",
      "metadata": {
        "id": "ZSImc3RyunMv"
      },
      "source": [
        "I was able to convert to tflite using the command. We made (me included) a key mistake: the inference_type should be FLOAT, not INT8. Though, I am not sure why \"tflite_convert --help\" didn't work on your computer."
      ]
    },
    {
      "cell_type": "markdown",
      "metadata": {
        "id": "IMcWPzkBxcX0"
      },
      "source": [
        "**Inputs:**\r\n",
        "- A Tensorflow Lite Graph under \"/content/saved_model_tflite\" (from previous step)"
      ]
    },
    {
      "cell_type": "code",
      "metadata": {
        "colab": {
          "base_uri": "https://localhost:8080/"
        },
        "id": "e7uO9DlVle9N",
        "outputId": "c64be7b0-eb89-44d2-e9a4-11f73acb62e6"
      },
      "source": [
        "!echo \"CONVERTING frozen graph to quantized TF Lite file...\"\r\n",
        "!mkdir '/content/Final_TFLITE/'\r\n",
        "!tflite_convert \\\r\n",
        "  --output_file='/content/Final_TFLITE/quantized.tflite' \\\r\n",
        "  --graph_def_file='/content/saved_model_tflite/tflite_graph.pb' \\\r\n",
        "  --inference_type=FLOAT \\\r\n",
        "  --input_arrays='normalized_input_image_tensor' \\\r\n",
        "  --output_arrays='TFLite_Detection_PostProcess,TFLite_Detection_PostProcess:1,TFLite_Detection_PostProcess:2,TFLite_Detection_PostProcess:3' \\\r\n",
        "  --mean_values=128 \\\r\n",
        "  --std_dev_values=128 \\\r\n",
        "  --input_shapes=1,300,300,3 \\\r\n",
        "  --change_concat_input_ranges=false \\\r\n",
        "  --allow_nudging_weights_to_use_fast_gemm_kernel=true \\\r\n",
        "  --allow_custom_ops"
      ],
      "execution_count": 6,
      "outputs": [
        {
          "output_type": "stream",
          "text": [
            "CONVERTING frozen graph to quantized TF Lite file...\n",
            "2021-02-15 03:49:29.040050: I tensorflow/stream_executor/platform/default/dso_loader.cc:44] Successfully opened dynamic library libcuda.so.1\n",
            "2021-02-15 03:49:29.050207: E tensorflow/stream_executor/cuda/cuda_driver.cc:318] failed call to cuInit: CUDA_ERROR_NO_DEVICE: no CUDA-capable device is detected\n",
            "2021-02-15 03:49:29.050258: I tensorflow/stream_executor/cuda/cuda_diagnostics.cc:156] kernel driver does not appear to be running on this host (bb57c9c2ddcc): /proc/driver/nvidia/version does not exist\n",
            "2021-02-15 03:49:29.060762: I tensorflow/core/platform/profile_utils/cpu_utils.cc:94] CPU Frequency: 2299995000 Hz\n",
            "2021-02-15 03:49:29.061011: I tensorflow/compiler/xla/service/service.cc:168] XLA service 0x1844a00 initialized for platform Host (this does not guarantee that XLA will be used). Devices:\n",
            "2021-02-15 03:49:29.061048: I tensorflow/compiler/xla/service/service.cc:176]   StreamExecutor device (0): Host, Default Version\n"
          ],
          "name": "stdout"
        }
      ]
    },
    {
      "cell_type": "markdown",
      "metadata": {
        "id": "9zarXlQwwFVW"
      },
      "source": [
        "**Output:**\r\n",
        "- A .tflite file under \"/content/Final_TFLITE/\" (Export this file to Android Studio FTC Repo to use!)"
      ]
    }
  ]
}